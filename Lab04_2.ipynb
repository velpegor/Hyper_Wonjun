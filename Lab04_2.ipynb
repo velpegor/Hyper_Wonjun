{
  "cells": [
    {
      "cell_type": "markdown",
      "metadata": {
        "id": "i7qY6LnzVfL6"
      },
      "source": [
        "# Lab 4-2: Load Data"
      ]
    },
    {
      "cell_type": "markdown",
      "metadata": {
        "id": "iUffg8EbVfMA"
      },
      "source": [
        "Author: Seungjae Lee (이승재)"
      ]
    },
    {
      "cell_type": "markdown",
      "metadata": {
        "id": "0lD0zwjRVfMB"
      },
      "source": [
        "<div class=\"alert alert-warning\">\n",
        "    We use elemental PyTorch to implement linear regression here. However, in most actual applications, abstractions such as <code>nn.Module</code> or <code>nn.Linear</code> are used.\n",
        "</div>"
      ]
    },
    {
      "cell_type": "markdown",
      "metadata": {
        "id": "RG4XJhGBVfMC"
      },
      "source": [
        "## Slicing 1D Array"
      ]
    },
    {
      "cell_type": "code",
      "execution_count": null,
      "metadata": {
        "id": "P_tPxBFaVfMD"
      },
      "outputs": [],
      "source": [
        "nums = [0, 1, 2, 3, 4]"
      ]
    },
    {
      "cell_type": "code",
      "execution_count": null,
      "metadata": {
        "id": "_-M5Bl_bVfMF",
        "outputId": "d5e45ea7-5224-4359-b3c6-7c6c98116e8a",
        "colab": {
          "base_uri": "https://localhost:8080/"
        }
      },
      "outputs": [
        {
          "output_type": "stream",
          "name": "stdout",
          "text": [
            "[0, 1, 2, 3, 4]\n"
          ]
        }
      ],
      "source": [
        "print(nums)"
      ]
    },
    {
      "cell_type": "markdown",
      "metadata": {
        "id": "Hs5wCmYtVfMH"
      },
      "source": [
        "index 2에서 4 전까지 가져와라. (앞 포함, 뒤 비포함)"
      ]
    },
    {
      "cell_type": "code",
      "execution_count": null,
      "metadata": {
        "id": "_wWuAv6tVfMI",
        "outputId": "abe6c548-d14d-4f0f-87f7-87a736d9c864",
        "colab": {
          "base_uri": "https://localhost:8080/"
        }
      },
      "outputs": [
        {
          "output_type": "stream",
          "name": "stdout",
          "text": [
            "[2, 3]\n"
          ]
        }
      ],
      "source": [
        "print(nums[2:4])"
      ]
    },
    {
      "cell_type": "markdown",
      "metadata": {
        "id": "IzK298_aVfMI"
      },
      "source": [
        "index 2부터 다 가져와라."
      ]
    },
    {
      "cell_type": "code",
      "execution_count": null,
      "metadata": {
        "id": "4sfzraEDVfMJ",
        "outputId": "c7364ab2-30a0-44e7-fe62-2f820b58f79e",
        "colab": {
          "base_uri": "https://localhost:8080/"
        }
      },
      "outputs": [
        {
          "output_type": "stream",
          "name": "stdout",
          "text": [
            "[2, 3, 4]\n"
          ]
        }
      ],
      "source": [
        "print(nums[2:])"
      ]
    },
    {
      "cell_type": "markdown",
      "metadata": {
        "id": "_9mWCLUoVfMK"
      },
      "source": [
        "index 2 전까지 가져와라. (역시 뒤는 비포함)"
      ]
    },
    {
      "cell_type": "code",
      "execution_count": null,
      "metadata": {
        "id": "IF13a0aSVfMK",
        "outputId": "34706625-c16c-4b95-8045-1aaca8a06b07",
        "colab": {
          "base_uri": "https://localhost:8080/"
        }
      },
      "outputs": [
        {
          "output_type": "stream",
          "name": "stdout",
          "text": [
            "[0, 1]\n"
          ]
        }
      ],
      "source": [
        "print(nums[:2])"
      ]
    },
    {
      "cell_type": "markdown",
      "metadata": {
        "id": "jTSI1ySYVfML"
      },
      "source": [
        "전부 가져와라"
      ]
    },
    {
      "cell_type": "code",
      "execution_count": null,
      "metadata": {
        "id": "QCKALX6XVfML",
        "outputId": "53f5eced-a15d-46ca-fa03-a3a6d213334d",
        "colab": {
          "base_uri": "https://localhost:8080/"
        }
      },
      "outputs": [
        {
          "output_type": "stream",
          "name": "stdout",
          "text": [
            "[0, 1, 2, 3, 4]\n"
          ]
        }
      ],
      "source": [
        "print(nums[:])"
      ]
    },
    {
      "cell_type": "markdown",
      "metadata": {
        "id": "6lQGCMP9VfMM"
      },
      "source": [
        "마지막 index 전까지 가져와라. (뒤는 비포함!)"
      ]
    },
    {
      "cell_type": "code",
      "execution_count": null,
      "metadata": {
        "id": "jzcxzIWAVfMM",
        "outputId": "50f91bcd-895c-444e-b9e7-c5b83628546f",
        "colab": {
          "base_uri": "https://localhost:8080/"
        }
      },
      "outputs": [
        {
          "output_type": "stream",
          "name": "stdout",
          "text": [
            "[0, 1, 2, 3]\n"
          ]
        }
      ],
      "source": [
        "print(nums[:-1])"
      ]
    },
    {
      "cell_type": "markdown",
      "metadata": {
        "id": "vDYDUtBrVfMM"
      },
      "source": [
        "assign 도 가능!"
      ]
    },
    {
      "cell_type": "code",
      "execution_count": null,
      "metadata": {
        "id": "hyTEx5LLVfMM"
      },
      "outputs": [],
      "source": [
        "nums[2:4] = [8, 9]"
      ]
    },
    {
      "cell_type": "code",
      "execution_count": null,
      "metadata": {
        "id": "vNj7zb-5VfMN",
        "outputId": "612272c5-0bce-4329-ad62-9df74d35ccd8",
        "colab": {
          "base_uri": "https://localhost:8080/"
        }
      },
      "outputs": [
        {
          "output_type": "stream",
          "name": "stdout",
          "text": [
            "[0, 1, 8, 9, 4]\n"
          ]
        }
      ],
      "source": [
        "print(nums)"
      ]
    },
    {
      "cell_type": "markdown",
      "metadata": {
        "id": "YWJpWa1RVfMN"
      },
      "source": [
        "## Slicing 2D Array"
      ]
    },
    {
      "cell_type": "code",
      "execution_count": null,
      "metadata": {
        "id": "naC_-g7GVfMN"
      },
      "outputs": [],
      "source": [
        "import numpy as np"
      ]
    },
    {
      "cell_type": "code",
      "execution_count": null,
      "metadata": {
        "id": "ZlH48dGTVfMO"
      },
      "outputs": [],
      "source": [
        "b = np.array([[1, 2, 3, 4], [5, 6, 7, 8], [9, 10, 11, 12]])"
      ]
    },
    {
      "cell_type": "code",
      "execution_count": null,
      "metadata": {
        "id": "IQw3JHKlVfMO",
        "outputId": "f75299f6-6078-43a0-8d93-fc42e64b4cde",
        "colab": {
          "base_uri": "https://localhost:8080/"
        }
      },
      "outputs": [
        {
          "output_type": "stream",
          "name": "stdout",
          "text": [
            "[[ 1  2  3  4]\n",
            " [ 5  6  7  8]\n",
            " [ 9 10 11 12]]\n"
          ]
        }
      ],
      "source": [
        "print(b)"
      ]
    },
    {
      "cell_type": "code",
      "execution_count": null,
      "metadata": {
        "id": "SD0nJUflVfMO",
        "outputId": "14a43db7-41b8-4809-e547-fa3ea570d184",
        "colab": {
          "base_uri": "https://localhost:8080/"
        }
      },
      "outputs": [
        {
          "output_type": "execute_result",
          "data": {
            "text/plain": [
              "array([ 2,  6, 10])"
            ]
          },
          "metadata": {},
          "execution_count": 13
        }
      ],
      "source": [
        "b[:, 1]"
      ]
    },
    {
      "cell_type": "code",
      "execution_count": null,
      "metadata": {
        "id": "OhiZWiLSVfMP",
        "outputId": "750c9bd1-fbf7-4c12-89b1-25aade229df5",
        "colab": {
          "base_uri": "https://localhost:8080/"
        }
      },
      "outputs": [
        {
          "output_type": "execute_result",
          "data": {
            "text/plain": [
              "array([ 9, 10, 11, 12])"
            ]
          },
          "metadata": {},
          "execution_count": 14
        }
      ],
      "source": [
        "b[-1]"
      ]
    },
    {
      "cell_type": "code",
      "execution_count": null,
      "metadata": {
        "id": "j2-VeUz3VfMP",
        "outputId": "b3195e6c-c507-4ca5-f27a-30fd538ac6c1",
        "colab": {
          "base_uri": "https://localhost:8080/"
        }
      },
      "outputs": [
        {
          "output_type": "execute_result",
          "data": {
            "text/plain": [
              "array([ 9, 10, 11, 12])"
            ]
          },
          "metadata": {},
          "execution_count": 15
        }
      ],
      "source": [
        "b[-1, :]"
      ]
    },
    {
      "cell_type": "code",
      "execution_count": null,
      "metadata": {
        "id": "7l9EKXQWVfMP",
        "outputId": "6dbe923f-4cef-43ea-e559-741a49739f51",
        "colab": {
          "base_uri": "https://localhost:8080/"
        }
      },
      "outputs": [
        {
          "output_type": "execute_result",
          "data": {
            "text/plain": [
              "array([ 9, 10, 11, 12])"
            ]
          },
          "metadata": {},
          "execution_count": 16
        }
      ],
      "source": [
        "b[-1, ...]"
      ]
    },
    {
      "cell_type": "code",
      "execution_count": null,
      "metadata": {
        "id": "4Ps186kLVfMQ",
        "outputId": "ee2d4038-4c11-4b25-f7af-c679d017a85b",
        "colab": {
          "base_uri": "https://localhost:8080/"
        }
      },
      "outputs": [
        {
          "output_type": "execute_result",
          "data": {
            "text/plain": [
              "array([[1, 2, 3, 4],\n",
              "       [5, 6, 7, 8]])"
            ]
          },
          "metadata": {},
          "execution_count": 17
        }
      ],
      "source": [
        "b[0:2, :]"
      ]
    },
    {
      "cell_type": "code",
      "source": [
        "b= np.array([[1, 2, 3], [4, 5, 6], [7, 8, 9], [10, 11, 12]])"
      ],
      "metadata": {
        "id": "yjT1WmcQWkOo"
      },
      "execution_count": null,
      "outputs": []
    },
    {
      "cell_type": "markdown",
      "source": [
        "Q1. 위 배열을 이용해 [1 4 7 10]을 출력해보세요.\n",
        "\n",
        "Q2. 위 배열을 이용해 11을 출력해보세요.\n",
        "\n",
        "Q3. 위 배열을 이용해 [[ 8  9]\n",
        " [11 12]]을 출력해보세요.\n",
        "\n",
        "Q4. 위 배열을 이용해 [[ 2  3]\n",
        " [ 5  6]\n",
        " [ 8  9]\n",
        " [11 12]]을 출력해보세요.\n",
        "\n",
        " Q5. 위 배열을 이용해 [10 11 12]을 출력해보세요."
      ],
      "metadata": {
        "id": "cWHpJJgjYxAz"
      }
    },
    {
      "cell_type": "code",
      "source": [
        "print(b[:, 0])\n",
        "print(b[3, 1])\n",
        "print(b[2:, 1:])\n",
        "print(b[:, 1:])\n",
        "print(b[3, :])"
      ],
      "metadata": {
        "id": "GO-AverNWkt_",
        "colab": {
          "base_uri": "https://localhost:8080/"
        },
        "outputId": "0965b713-29cc-4971-fafc-5d9d12685837"
      },
      "execution_count": null,
      "outputs": [
        {
          "output_type": "stream",
          "name": "stdout",
          "text": [
            "[ 1  4  7 10]\n",
            "11\n",
            "[[ 8  9]\n",
            " [11 12]]\n",
            "[[ 2  3]\n",
            " [ 5  6]\n",
            " [ 8  9]\n",
            " [11 12]]\n",
            "[10 11 12]\n"
          ]
        }
      ]
    },
    {
      "cell_type": "markdown",
      "metadata": {
        "id": "_n5YnbbDVfMQ"
      },
      "source": [
        "## Loading Data from `.csv` file"
      ]
    },
    {
      "cell_type": "markdown",
      "source": [
        "data-01-test-score.csv 파일 사용!"
      ],
      "metadata": {
        "id": "w0I1uGWgYNaT"
      }
    },
    {
      "cell_type": "code",
      "execution_count": null,
      "metadata": {
        "id": "PMlTk-5UVfMR"
      },
      "outputs": [],
      "source": [
        "import numpy as np"
      ]
    },
    {
      "cell_type": "markdown",
      "source": [
        "Drive mount 하는 방법\n",
        "\n",
        "https://vision-ai.tistory.com/entry/%EC%BD%94%EB%9E%A9%EC%97%90%EC%84%9C-%EB%93%9C%EB%9D%BC%EC%9D%B4%EB%B8%8C%EC%9D%98-csv-%ED%8C%8C%EC%9D%BC-%EC%9D%BD%EA%B8%B0\n",
        "\n",
        "을 참고하세요!!"
      ],
      "metadata": {
        "id": "qu7mft0mcctJ"
      }
    },
    {
      "cell_type": "code",
      "source": [
        "from google.colab import drive"
      ],
      "metadata": {
        "id": "N7npiZWMage4"
      },
      "execution_count": null,
      "outputs": []
    },
    {
      "cell_type": "code",
      "source": [
        "drive.mount('/content/drive')"
      ],
      "metadata": {
        "colab": {
          "base_uri": "https://localhost:8080/"
        },
        "id": "d-SM4bxiagiB",
        "outputId": "5b6ff038-ee79-4069-fb7d-67c7eec0838f"
      },
      "execution_count": null,
      "outputs": [
        {
          "output_type": "stream",
          "name": "stdout",
          "text": [
            "Mounted at /content/drive\n"
          ]
        }
      ]
    },
    {
      "cell_type": "code",
      "source": [
        "xy= np.loadtxt('/content/drive/MyDrive/data-01-test-score.csv',delimiter=',', dtype=np.float32)"
      ],
      "metadata": {
        "id": "fKvu32T1agmM"
      },
      "execution_count": null,
      "outputs": []
    },
    {
      "cell_type": "code",
      "execution_count": null,
      "metadata": {
        "id": "kIpWRdHFVfMR"
      },
      "outputs": [],
      "source": [
        "x_data = xy[:, 0:-1]\n",
        "y_data = xy[:, [-1]]"
      ]
    },
    {
      "cell_type": "code",
      "execution_count": null,
      "metadata": {
        "colab": {
          "base_uri": "https://localhost:8080/"
        },
        "id": "waMiRzfBVfMS",
        "outputId": "ecb390f9-bec9-4943-bc92-19608d563fba"
      },
      "outputs": [
        {
          "output_type": "stream",
          "name": "stdout",
          "text": [
            "(25, 3)\n",
            "25\n",
            "[[ 73.  80.  75.]\n",
            " [ 93.  88.  93.]\n",
            " [ 89.  91.  90.]\n",
            " [ 96.  98. 100.]\n",
            " [ 73.  66.  70.]]\n"
          ]
        }
      ],
      "source": [
        "print(x_data.shape) # x_data shape\n",
        "print(len(x_data))  # x_data 길이\n",
        "print(x_data[:5])   # 첫 다섯 개"
      ]
    },
    {
      "cell_type": "code",
      "execution_count": null,
      "metadata": {
        "colab": {
          "base_uri": "https://localhost:8080/"
        },
        "id": "sTyEp37tVfMS",
        "outputId": "df7e3f7b-73f4-484d-da7d-fb57bf4bf6b8"
      },
      "outputs": [
        {
          "output_type": "stream",
          "name": "stdout",
          "text": [
            "(25, 1)\n",
            "25\n",
            "[[152.]\n",
            " [185.]\n",
            " [180.]\n",
            " [196.]\n",
            " [142.]]\n"
          ]
        }
      ],
      "source": [
        "print(y_data.shape) # y_data shape\n",
        "print(len(y_data))  # y_data 길이\n",
        "print(y_data[:5])   # 첫 다섯 개"
      ]
    },
    {
      "cell_type": "markdown",
      "metadata": {
        "id": "Qe5d71jYVfMS"
      },
      "source": [
        "## Imports"
      ]
    },
    {
      "cell_type": "code",
      "execution_count": null,
      "metadata": {
        "id": "nYZH6vmgVfMT"
      },
      "outputs": [],
      "source": [
        "import torch\n",
        "import torch.nn as nn\n",
        "import torch.nn.functional as F\n",
        "import torch.optim as optim"
      ]
    },
    {
      "cell_type": "code",
      "execution_count": null,
      "metadata": {
        "id": "xDGeDG4HVfMT",
        "outputId": "c1314bab-8468-4635-a139-1bce04eee8e1",
        "colab": {
          "base_uri": "https://localhost:8080/"
        }
      },
      "outputs": [
        {
          "output_type": "execute_result",
          "data": {
            "text/plain": [
              "<torch._C.Generator at 0x7fdfb299f490>"
            ]
          },
          "metadata": {},
          "execution_count": 15
        }
      ],
      "source": [
        "# For reproducibility\n",
        "torch.manual_seed(1)"
      ]
    },
    {
      "cell_type": "markdown",
      "metadata": {
        "id": "bkyJpqSYVfMT"
      },
      "source": [
        "## Low-level Implementation"
      ]
    },
    {
      "cell_type": "code",
      "execution_count": null,
      "metadata": {
        "id": "N2axnCOCVfMU",
        "outputId": "fa8d791e-9019-4c4e-b28f-903c535d88cf",
        "colab": {
          "base_uri": "https://localhost:8080/"
        }
      },
      "outputs": [
        {
          "output_type": "stream",
          "name": "stdout",
          "text": [
            "Epoch    0/20 Cost: 26811.960938\n",
            "Epoch    1/20 Cost: 9920.530273\n",
            "Epoch    2/20 Cost: 3675.298340\n",
            "Epoch    3/20 Cost: 1366.260498\n",
            "Epoch    4/20 Cost: 512.542480\n",
            "Epoch    5/20 Cost: 196.896637\n",
            "Epoch    6/20 Cost: 80.190987\n",
            "Epoch    7/20 Cost: 37.038696\n",
            "Epoch    8/20 Cost: 21.081343\n",
            "Epoch    9/20 Cost: 15.178760\n",
            "Epoch   10/20 Cost: 12.993679\n",
            "Epoch   11/20 Cost: 12.183023\n",
            "Epoch   12/20 Cost: 11.880535\n",
            "Epoch   13/20 Cost: 11.765958\n",
            "Epoch   14/20 Cost: 11.720851\n",
            "Epoch   15/20 Cost: 11.701438\n",
            "Epoch   16/20 Cost: 11.691514\n",
            "Epoch   17/20 Cost: 11.685116\n",
            "Epoch   18/20 Cost: 11.680005\n",
            "Epoch   19/20 Cost: 11.675380\n",
            "Epoch   20/20 Cost: 11.670952\n"
          ]
        }
      ],
      "source": [
        "# 데이터\n",
        "x_train = torch.FloatTensor(x_data)\n",
        "y_train = torch.FloatTensor(y_data)\n",
        "# 모델 초기화\n",
        "W = torch.zeros((3,1), requires_grad=True) #가중치 W를 0으로 초기화하고 학습을 통해 값이 변경될 수 있도록 하세요. x_train의 shape을 잘 생각해보세요!!\n",
        "b = torch.zeros(1, requires_grad=True) #가중치 W를 0으로 초기화하고 학습을 통해 값이 변경될 수 있도록 하세요.\n",
        "# optimizer 설정\n",
        "optimizer = optim.SGD([W,b], lr=1e-5) #SGD optimizer를 사용하고 learning rate는 1e-5로 적용하세요.\n",
        "\n",
        "nb_epochs = 20\n",
        "for epoch in range(nb_epochs + 1):\n",
        "    \n",
        "    # H(x) 계산\n",
        "    hypothesis = x_train.matmul(W) + b #x_train의 shape이 달라졌기 때문에 행렬곱셉을 합니다!!\n",
        "\n",
        "    # cost 계산\n",
        "    cost = torch.mean((hypothesis - y_train) ** 2)#파이토치 코드 상으로 선형 회귀의 비용 함수에 해당되는 평균 제곱 오차를 선언하세요.\n",
        "\n",
        "    # cost로 H(x) 개선\n",
        "    optimizer.zero_grad()  # gradient를 0으로 초기화\n",
        "    cost.backward()  # 비용 함수를 미분하여 gradient 계산\n",
        "    optimizer.step() # W와 b를 업데이트\n",
        "\n",
        "    # 100번마다 로그 출력\n",
        "    print('Epoch {:4d}/{} Cost: {:.6f}'.format(\n",
        "        epoch, nb_epochs, cost.item()\n",
        "    ))"
      ]
    },
    {
      "cell_type": "markdown",
      "metadata": {
        "id": "430OpqwbVfMU"
      },
      "source": [
        "## High-level Implementation with `nn.Module`"
      ]
    },
    {
      "cell_type": "code",
      "execution_count": null,
      "metadata": {
        "id": "rX6YHFgEVfMV"
      },
      "outputs": [],
      "source": [
        "class MultivariateLinearRegressionModel(nn.Module):\n",
        "    def __init__(self):\n",
        "        super().__init__()\n",
        "        self.linear = nn.Linear(3, 1)\n",
        "\n",
        "    def forward(self, x):\n",
        "        return self.linear(x)"
      ]
    },
    {
      "cell_type": "code",
      "execution_count": null,
      "metadata": {
        "id": "ne_-8xkSVfMW",
        "outputId": "1310ce7f-b36c-4978-dd74-9139fed1d311",
        "colab": {
          "base_uri": "https://localhost:8080/"
        }
      },
      "outputs": [
        {
          "output_type": "stream",
          "name": "stdout",
          "text": [
            "Epoch    0/20 Cost: 28693.490234\n",
            "Epoch    1/20 Cost: 10618.750000\n",
            "Epoch    2/20 Cost: 3936.015381\n",
            "Epoch    3/20 Cost: 1465.219727\n",
            "Epoch    4/20 Cost: 551.693726\n",
            "Epoch    5/20 Cost: 213.934616\n",
            "Epoch    6/20 Cost: 89.052269\n",
            "Epoch    7/20 Cost: 42.876007\n",
            "Epoch    8/20 Cost: 25.799639\n",
            "Epoch    9/20 Cost: 19.482420\n",
            "Epoch   10/20 Cost: 17.143093\n",
            "Epoch   11/20 Cost: 16.274508\n",
            "Epoch   12/20 Cost: 15.949721\n",
            "Epoch   13/20 Cost: 15.825986\n",
            "Epoch   14/20 Cost: 15.776565\n",
            "Epoch   15/20 Cost: 15.754660\n",
            "Epoch   16/20 Cost: 15.742919\n",
            "Epoch   17/20 Cost: 15.734917\n",
            "Epoch   18/20 Cost: 15.728307\n",
            "Epoch   19/20 Cost: 15.722219\n",
            "Epoch   20/20 Cost: 15.716357\n"
          ]
        }
      ],
      "source": [
        "# 데이터\n",
        "x_train = torch.FloatTensor(x_data)\n",
        "y_train = torch.FloatTensor(y_data)\n",
        "# 모델 초기화\n",
        "model = MultivariateLinearRegressionModel() #MultivariateLinearRegressionModel()로 모델을 초기화하세요.\n",
        "# optimizer 설정\n",
        "optimizer = optim.SGD(model.parameters(), lr=1e-5)  #SGD optimizer를 사용하고 learning rate는 1e-5로 적용하세요.\n",
        "\n",
        "nb_epochs = 20\n",
        "for epoch in range(nb_epochs+1):\n",
        "    \n",
        "    # H(x) 계산\n",
        "    prediction = model(x_train) #모델을 생성해서 예측값을 구해보세요.\n",
        "    \n",
        "    # cost 계산\n",
        "    cost = F.mse_loss(prediction, y_train)#PyTorch에서 기본적으로 제공하는 mse 함수를 사용하세요.\n",
        "    \n",
        "    # cost로 H(x) 개선\n",
        "    optimizer.zero_grad()\n",
        "    cost.backward()\n",
        "    optimizer.step()\n",
        "    \n",
        "    # 20번마다 로그 출력\n",
        "    print('Epoch {:4d}/{} Cost: {:.6f}'.format(\n",
        "        epoch, nb_epochs, cost.item()\n",
        "    ))"
      ]
    },
    {
      "cell_type": "markdown",
      "metadata": {
        "id": "kREZynd5VfMX"
      },
      "source": [
        "## Dataset and DataLoader"
      ]
    },
    {
      "cell_type": "markdown",
      "metadata": {
        "id": "DW3WBqKuVfMX"
      },
      "source": [
        "<div class=\"alert alert-warning\">\n",
        "    pandas 기초지식이 필요할 것 같다\n",
        "</div>"
      ]
    },
    {
      "cell_type": "markdown",
      "metadata": {
        "id": "Vvux2m4LVfMY"
      },
      "source": [
        "너무 데이터가 크면 `x_data`, `y_data` 를 전부 다 가져오지 말고, 필요한 배치만 가져올 수 밖에 없다."
      ]
    },
    {
      "cell_type": "markdown",
      "metadata": {
        "id": "MijgD64zVfMY"
      },
      "source": [
        "[PyTorch Data Loading and Processing tutorial](https://pytorch.org/tutorials/beginner/data_loading_tutorial.html#iterating-through-the-dataset)"
      ]
    }
  ],
  "metadata": {
    "kernelspec": {
      "display_name": "Python 3",
      "language": "python",
      "name": "python3"
    },
    "language_info": {
      "codemirror_mode": {
        "name": "ipython",
        "version": 3
      },
      "file_extension": ".py",
      "mimetype": "text/x-python",
      "name": "python",
      "nbconvert_exporter": "python",
      "pygments_lexer": "ipython3",
      "version": "3.7.0"
    },
    "colab": {
      "name": "Lab04_2.ipynb",
      "provenance": [],
      "collapsed_sections": []
    }
  },
  "nbformat": 4,
  "nbformat_minor": 0
}